{
 "metadata": {
  "language_info": {
   "codemirror_mode": {
    "name": "ipython",
    "version": 3
   },
   "file_extension": ".py",
   "mimetype": "text/x-python",
   "name": "python",
   "nbconvert_exporter": "python",
   "pygments_lexer": "ipython3",
   "version": "3.8.5-final"
  },
  "orig_nbformat": 2,
  "kernelspec": {
   "name": "python3",
   "display_name": "Python 3"
  }
 },
 "nbformat": 4,
 "nbformat_minor": 2,
 "cells": [
  {
   "cell_type": "code",
   "execution_count": 1,
   "metadata": {},
   "outputs": [],
   "source": [
    "import pandas as pd\n",
    "import numpy as np\n",
    "import matplotlib.pyplot as plt"
   ]
  },
  {
   "source": [
    "### Load the data and filter needed columns"
   ],
   "cell_type": "markdown",
   "metadata": {}
  },
  {
   "cell_type": "code",
   "execution_count": 2,
   "metadata": {},
   "outputs": [
    {
     "output_type": "execute_result",
     "data": {
      "text/plain": [
       "                                          MainBranch  ConvertedComp  \\\n",
       "0                     I am a developer by profession            NaN   \n",
       "1                     I am a developer by profession            NaN   \n",
       "2                        I code primarily as a hobby            NaN   \n",
       "3                     I am a developer by profession            NaN   \n",
       "4  I used to be a developer by profession, but no...            NaN   \n",
       "\n",
       "              Country DatabaseDesireNextYear  \\\n",
       "0             Germany   Microsoft SQL Server   \n",
       "1      United Kingdom                    NaN   \n",
       "2  Russian Federation                    NaN   \n",
       "3             Albania                    NaN   \n",
       "4       United States       MySQL;PostgreSQL   \n",
       "\n",
       "                          DatabaseWorkedWith  \\\n",
       "0  Elasticsearch;Microsoft SQL Server;Oracle   \n",
       "1                                        NaN   \n",
       "2                                        NaN   \n",
       "3                                        NaN   \n",
       "4              MySQL;PostgreSQL;Redis;SQLite   \n",
       "\n",
       "                                             DevType  \\\n",
       "0  Developer, desktop or enterprise applications;...   \n",
       "1            Developer, full-stack;Developer, mobile   \n",
       "2                                                NaN   \n",
       "3                                                NaN   \n",
       "4                                                NaN   \n",
       "\n",
       "                                           EdLevel  \\\n",
       "0  Master’s degree (M.A., M.S., M.Eng., MBA, etc.)   \n",
       "1     Bachelor’s degree (B.A., B.S., B.Eng., etc.)   \n",
       "2                                              NaN   \n",
       "3  Master’s degree (M.A., M.S., M.Eng., MBA, etc.)   \n",
       "4     Bachelor’s degree (B.A., B.S., B.Eng., etc.)   \n",
       "\n",
       "                                          Employment  \\\n",
       "0  Independent contractor, freelancer, or self-em...   \n",
       "1                                 Employed full-time   \n",
       "2                                                NaN   \n",
       "3                                                NaN   \n",
       "4                                 Employed full-time   \n",
       "\n",
       "     LanguageDesireNextYear        LanguageWorkedWith  ... MiscTechWorkedWith  \\\n",
       "0    C#;HTML/CSS;JavaScript    C#;HTML/CSS;JavaScript  ...     .NET;.NET Core   \n",
       "1              Python;Swift          JavaScript;Swift  ...       React Native   \n",
       "2  Objective-C;Python;Swift  Objective-C;Python;Swift  ...                NaN   \n",
       "3                       NaN                       NaN  ...                NaN   \n",
       "4           Java;Ruby;Scala         HTML/CSS;Ruby;SQL  ...            Ansible   \n",
       "\n",
       "        NEWLearn                             PlatformDesireNextYear  \\\n",
       "0    Once a year     Android;iOS;Kubernetes;Microsoft Azure;Windows   \n",
       "1    Once a year                         iOS;Kubernetes;Linux;MacOS   \n",
       "2  Once a decade                                                NaN   \n",
       "3    Once a year                                                NaN   \n",
       "4    Once a year  Docker;Google Cloud Platform;Heroku;Linux;Windows   \n",
       "\n",
       "               PlatformWorkedWith  \\\n",
       "0                         Windows   \n",
       "1                             iOS   \n",
       "2                             NaN   \n",
       "3                             NaN   \n",
       "4  AWS;Docker;Linux;MacOS;Windows   \n",
       "\n",
       "                                      UndergradMajor WebframeDesireNextYear  \\\n",
       "0  Computer science, computer engineering, or sof...           ASP.NET Core   \n",
       "1  Computer science, computer engineering, or sof...                    NaN   \n",
       "2                                                NaN                    NaN   \n",
       "3  Computer science, computer engineering, or sof...                    NaN   \n",
       "4  Computer science, computer engineering, or sof...   Django;Ruby on Rails   \n",
       "\n",
       "     WebframeWorkedWith WorkWeekHrs  YearsCode YearsCodePro  \n",
       "0  ASP.NET;ASP.NET Core        50.0         36           27  \n",
       "1                   NaN         NaN          7            4  \n",
       "2                   NaN         NaN          4          NaN  \n",
       "3                   NaN        40.0          7            4  \n",
       "4         Ruby on Rails         NaN         15            8  \n",
       "\n",
       "[5 rows x 21 columns]"
      ],
      "text/html": "<div>\n<style scoped>\n    .dataframe tbody tr th:only-of-type {\n        vertical-align: middle;\n    }\n\n    .dataframe tbody tr th {\n        vertical-align: top;\n    }\n\n    .dataframe thead th {\n        text-align: right;\n    }\n</style>\n<table border=\"1\" class=\"dataframe\">\n  <thead>\n    <tr style=\"text-align: right;\">\n      <th></th>\n      <th>MainBranch</th>\n      <th>ConvertedComp</th>\n      <th>Country</th>\n      <th>DatabaseDesireNextYear</th>\n      <th>DatabaseWorkedWith</th>\n      <th>DevType</th>\n      <th>EdLevel</th>\n      <th>Employment</th>\n      <th>LanguageDesireNextYear</th>\n      <th>LanguageWorkedWith</th>\n      <th>...</th>\n      <th>MiscTechWorkedWith</th>\n      <th>NEWLearn</th>\n      <th>PlatformDesireNextYear</th>\n      <th>PlatformWorkedWith</th>\n      <th>UndergradMajor</th>\n      <th>WebframeDesireNextYear</th>\n      <th>WebframeWorkedWith</th>\n      <th>WorkWeekHrs</th>\n      <th>YearsCode</th>\n      <th>YearsCodePro</th>\n    </tr>\n  </thead>\n  <tbody>\n    <tr>\n      <th>0</th>\n      <td>I am a developer by profession</td>\n      <td>NaN</td>\n      <td>Germany</td>\n      <td>Microsoft SQL Server</td>\n      <td>Elasticsearch;Microsoft SQL Server;Oracle</td>\n      <td>Developer, desktop or enterprise applications;...</td>\n      <td>Master’s degree (M.A., M.S., M.Eng., MBA, etc.)</td>\n      <td>Independent contractor, freelancer, or self-em...</td>\n      <td>C#;HTML/CSS;JavaScript</td>\n      <td>C#;HTML/CSS;JavaScript</td>\n      <td>...</td>\n      <td>.NET;.NET Core</td>\n      <td>Once a year</td>\n      <td>Android;iOS;Kubernetes;Microsoft Azure;Windows</td>\n      <td>Windows</td>\n      <td>Computer science, computer engineering, or sof...</td>\n      <td>ASP.NET Core</td>\n      <td>ASP.NET;ASP.NET Core</td>\n      <td>50.0</td>\n      <td>36</td>\n      <td>27</td>\n    </tr>\n    <tr>\n      <th>1</th>\n      <td>I am a developer by profession</td>\n      <td>NaN</td>\n      <td>United Kingdom</td>\n      <td>NaN</td>\n      <td>NaN</td>\n      <td>Developer, full-stack;Developer, mobile</td>\n      <td>Bachelor’s degree (B.A., B.S., B.Eng., etc.)</td>\n      <td>Employed full-time</td>\n      <td>Python;Swift</td>\n      <td>JavaScript;Swift</td>\n      <td>...</td>\n      <td>React Native</td>\n      <td>Once a year</td>\n      <td>iOS;Kubernetes;Linux;MacOS</td>\n      <td>iOS</td>\n      <td>Computer science, computer engineering, or sof...</td>\n      <td>NaN</td>\n      <td>NaN</td>\n      <td>NaN</td>\n      <td>7</td>\n      <td>4</td>\n    </tr>\n    <tr>\n      <th>2</th>\n      <td>I code primarily as a hobby</td>\n      <td>NaN</td>\n      <td>Russian Federation</td>\n      <td>NaN</td>\n      <td>NaN</td>\n      <td>NaN</td>\n      <td>NaN</td>\n      <td>NaN</td>\n      <td>Objective-C;Python;Swift</td>\n      <td>Objective-C;Python;Swift</td>\n      <td>...</td>\n      <td>NaN</td>\n      <td>Once a decade</td>\n      <td>NaN</td>\n      <td>NaN</td>\n      <td>NaN</td>\n      <td>NaN</td>\n      <td>NaN</td>\n      <td>NaN</td>\n      <td>4</td>\n      <td>NaN</td>\n    </tr>\n    <tr>\n      <th>3</th>\n      <td>I am a developer by profession</td>\n      <td>NaN</td>\n      <td>Albania</td>\n      <td>NaN</td>\n      <td>NaN</td>\n      <td>NaN</td>\n      <td>Master’s degree (M.A., M.S., M.Eng., MBA, etc.)</td>\n      <td>NaN</td>\n      <td>NaN</td>\n      <td>NaN</td>\n      <td>...</td>\n      <td>NaN</td>\n      <td>Once a year</td>\n      <td>NaN</td>\n      <td>NaN</td>\n      <td>Computer science, computer engineering, or sof...</td>\n      <td>NaN</td>\n      <td>NaN</td>\n      <td>40.0</td>\n      <td>7</td>\n      <td>4</td>\n    </tr>\n    <tr>\n      <th>4</th>\n      <td>I used to be a developer by profession, but no...</td>\n      <td>NaN</td>\n      <td>United States</td>\n      <td>MySQL;PostgreSQL</td>\n      <td>MySQL;PostgreSQL;Redis;SQLite</td>\n      <td>NaN</td>\n      <td>Bachelor’s degree (B.A., B.S., B.Eng., etc.)</td>\n      <td>Employed full-time</td>\n      <td>Java;Ruby;Scala</td>\n      <td>HTML/CSS;Ruby;SQL</td>\n      <td>...</td>\n      <td>Ansible</td>\n      <td>Once a year</td>\n      <td>Docker;Google Cloud Platform;Heroku;Linux;Windows</td>\n      <td>AWS;Docker;Linux;MacOS;Windows</td>\n      <td>Computer science, computer engineering, or sof...</td>\n      <td>Django;Ruby on Rails</td>\n      <td>Ruby on Rails</td>\n      <td>NaN</td>\n      <td>15</td>\n      <td>8</td>\n    </tr>\n  </tbody>\n</table>\n<p>5 rows × 21 columns</p>\n</div>"
     },
     "metadata": {},
     "execution_count": 2
    }
   ],
   "source": [
    "df = pd.read_csv('./datasets/developer_survey_2020/survey_results_public.csv')\n",
    "desiredColumn = ['MainBranch', 'ConvertedComp', 'Country', 'DatabaseDesireNextYear', 'DatabaseWorkedWith', 'DevType', 'EdLevel', 'Employment', 'LanguageDesireNextYear', 'LanguageWorkedWith', 'MiscTechDesireNextYear', 'MiscTechWorkedWith', 'NEWLearn', 'PlatformDesireNextYear', 'PlatformWorkedWith', 'UndergradMajor', 'WebframeDesireNextYear', 'WebframeWorkedWith', 'WorkWeekHrs', 'YearsCode', 'YearsCodePro']\n",
    "df = df[desiredColumn]\n",
    "df.head()"
   ]
  },
  {
   "source": [
    "### Filter only developer profession"
   ],
   "cell_type": "markdown",
   "metadata": {}
  },
  {
   "cell_type": "code",
   "execution_count": 3,
   "metadata": {},
   "outputs": [
    {
     "output_type": "execute_result",
     "data": {
      "text/plain": [
       "array(['I am a developer by profession'], dtype=object)"
      ]
     },
     "metadata": {},
     "execution_count": 3
    }
   ],
   "source": [
    "df = df[df['MainBranch'] == 'I am a developer by profession']\n",
    "df['MainBranch'].unique()"
   ]
  },
  {
   "cell_type": "code",
   "execution_count": 4,
   "metadata": {},
   "outputs": [],
   "source": [
    "def separateList(df, col_name, sep, prefix=None):\n",
    "    '''\n",
    "    INPUT:\n",
    "    df - pandas dataframe\n",
    "    col_name - name of column which contain list that want to be separated\n",
    "    sep - character used to separate object in the list\n",
    "    prefix - prefix for the new column\n",
    "\n",
    "    OUTPUT:\n",
    "    df - new dataframe with separated column and\n",
    "    '''\n"
   ]
  }
 ]
}