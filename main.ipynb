{
 "metadata": {
  "language_info": {
   "codemirror_mode": {
    "name": "ipython",
    "version": 3
   },
   "file_extension": ".py",
   "mimetype": "text/x-python",
   "name": "python",
   "nbconvert_exporter": "python",
   "pygments_lexer": "ipython3",
   "version": "3.8.5-final"
  },
  "orig_nbformat": 2,
  "kernelspec": {
   "name": "python3",
   "display_name": "Python 3"
  }
 },
 "nbformat": 4,
 "nbformat_minor": 2,
 "cells": [
  {
   "cell_type": "code",
   "execution_count": 1,
   "metadata": {},
   "outputs": [],
   "source": [
    "import pandas as pd\n",
    "import numpy as np\n",
    "import matplotlib.pyplot as plt"
   ]
  },
  {
   "cell_type": "code",
   "execution_count": 2,
   "metadata": {},
   "outputs": [
    {
     "output_type": "execute_result",
     "data": {
      "text/plain": [
       "   index        Date        Region Thermal Generation Actual (in MU)  \\\n",
       "0      0  2017-09-01      Northern                            624.23   \n",
       "1      1  2017-09-01       Western                          1,106.89   \n",
       "2      2  2017-09-01      Southern                            576.66   \n",
       "3      3  2017-09-01       Eastern                            441.02   \n",
       "4      4  2017-09-01  NorthEastern                             29.11   \n",
       "\n",
       "  Thermal Generation Estimated (in MU)  Nuclear Generation Actual (in MU)  \\\n",
       "0                               484.21                              30.36   \n",
       "1                             1,024.33                              25.17   \n",
       "2                               578.55                              62.73   \n",
       "3                               429.39                                NaN   \n",
       "4                                15.91                                NaN   \n",
       "\n",
       "   Nuclear Generation Estimated (in MU)  Hydro Generation Actual (in MU)  \\\n",
       "0                                 35.57                           273.27   \n",
       "1                                  3.81                            72.00   \n",
       "2                                 49.80                           111.57   \n",
       "3                                   NaN                            85.94   \n",
       "4                                   NaN                            24.64   \n",
       "\n",
       "   Hydro Generation Estimated (in MU)  \n",
       "0                              320.81  \n",
       "1                               21.53  \n",
       "2                               64.78  \n",
       "3                               69.36  \n",
       "4                               21.21  "
      ],
      "text/html": "<div>\n<style scoped>\n    .dataframe tbody tr th:only-of-type {\n        vertical-align: middle;\n    }\n\n    .dataframe tbody tr th {\n        vertical-align: top;\n    }\n\n    .dataframe thead th {\n        text-align: right;\n    }\n</style>\n<table border=\"1\" class=\"dataframe\">\n  <thead>\n    <tr style=\"text-align: right;\">\n      <th></th>\n      <th>index</th>\n      <th>Date</th>\n      <th>Region</th>\n      <th>Thermal Generation Actual (in MU)</th>\n      <th>Thermal Generation Estimated (in MU)</th>\n      <th>Nuclear Generation Actual (in MU)</th>\n      <th>Nuclear Generation Estimated (in MU)</th>\n      <th>Hydro Generation Actual (in MU)</th>\n      <th>Hydro Generation Estimated (in MU)</th>\n    </tr>\n  </thead>\n  <tbody>\n    <tr>\n      <th>0</th>\n      <td>0</td>\n      <td>2017-09-01</td>\n      <td>Northern</td>\n      <td>624.23</td>\n      <td>484.21</td>\n      <td>30.36</td>\n      <td>35.57</td>\n      <td>273.27</td>\n      <td>320.81</td>\n    </tr>\n    <tr>\n      <th>1</th>\n      <td>1</td>\n      <td>2017-09-01</td>\n      <td>Western</td>\n      <td>1,106.89</td>\n      <td>1,024.33</td>\n      <td>25.17</td>\n      <td>3.81</td>\n      <td>72.00</td>\n      <td>21.53</td>\n    </tr>\n    <tr>\n      <th>2</th>\n      <td>2</td>\n      <td>2017-09-01</td>\n      <td>Southern</td>\n      <td>576.66</td>\n      <td>578.55</td>\n      <td>62.73</td>\n      <td>49.80</td>\n      <td>111.57</td>\n      <td>64.78</td>\n    </tr>\n    <tr>\n      <th>3</th>\n      <td>3</td>\n      <td>2017-09-01</td>\n      <td>Eastern</td>\n      <td>441.02</td>\n      <td>429.39</td>\n      <td>NaN</td>\n      <td>NaN</td>\n      <td>85.94</td>\n      <td>69.36</td>\n    </tr>\n    <tr>\n      <th>4</th>\n      <td>4</td>\n      <td>2017-09-01</td>\n      <td>NorthEastern</td>\n      <td>29.11</td>\n      <td>15.91</td>\n      <td>NaN</td>\n      <td>NaN</td>\n      <td>24.64</td>\n      <td>21.21</td>\n    </tr>\n  </tbody>\n</table>\n</div>"
     },
     "metadata": {},
     "execution_count": 2
    }
   ],
   "source": [
    "df = pd.read_csv('./datasets/file_02.csv')\n",
    "df.head()"
   ]
  },
  {
   "cell_type": "code",
   "execution_count": 3,
   "metadata": {},
   "outputs": [
    {
     "output_type": "execute_result",
     "data": {
      "text/plain": [
       "(4945, 9)"
      ]
     },
     "metadata": {},
     "execution_count": 3
    }
   ],
   "source": []
  }
 ]
}